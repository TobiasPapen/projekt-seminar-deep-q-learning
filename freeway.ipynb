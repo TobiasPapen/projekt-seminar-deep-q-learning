{
 "cells": [
  {
   "cell_type": "markdown",
   "metadata": {},
   "source": [
    "### 1. Installing and importing all necessary dependencies ###"
   ]
  },
  {
   "cell_type": "code",
   "execution_count": 1,
   "metadata": {},
   "outputs": [
    {
     "name": "stdout",
     "output_type": "stream",
     "text": [
      "Requirement already satisfied: gym[atari] in c:\\users\\jan felix\\anaconda3\\lib\\site-packages (0.26.2)\n",
      "Requirement already satisfied: numpy>=1.18.0 in c:\\users\\jan felix\\anaconda3\\lib\\site-packages (from gym[atari]) (1.21.5)\n",
      "Requirement already satisfied: importlib-metadata>=4.8.0 in c:\\users\\jan felix\\anaconda3\\lib\\site-packages (from gym[atari]) (4.11.3)\n",
      "Requirement already satisfied: cloudpickle>=1.2.0 in c:\\users\\jan felix\\anaconda3\\lib\\site-packages (from gym[atari]) (1.6.0)\n",
      "Requirement already satisfied: gym-notices>=0.0.4 in c:\\users\\jan felix\\anaconda3\\lib\\site-packages (from gym[atari]) (0.0.8)\n",
      "Requirement already satisfied: ale-py~=0.8.0 in c:\\users\\jan felix\\anaconda3\\lib\\site-packages (from gym[atari]) (0.8.0)\n",
      "Requirement already satisfied: importlib-resources in c:\\users\\jan felix\\anaconda3\\lib\\site-packages (from ale-py~=0.8.0->gym[atari]) (5.10.0)\n",
      "Requirement already satisfied: typing-extensions in c:\\users\\jan felix\\anaconda3\\lib\\site-packages (from ale-py~=0.8.0->gym[atari]) (4.3.0)\n",
      "Requirement already satisfied: zipp>=0.5 in c:\\users\\jan felix\\anaconda3\\lib\\site-packages (from importlib-metadata>=4.8.0->gym[atari]) (3.8.0)\n",
      "Note: you may need to restart the kernel to use updated packages.\n",
      "Requirement already satisfied: ale_py in c:\\users\\jan felix\\anaconda3\\lib\\site-packages (0.8.0)\n",
      "Requirement already satisfied: numpy in c:\\users\\jan felix\\anaconda3\\lib\\site-packages (from ale_py) (1.21.5)\n",
      "Requirement already satisfied: typing-extensions in c:\\users\\jan felix\\anaconda3\\lib\\site-packages (from ale_py) (4.3.0)\n",
      "Requirement already satisfied: importlib-resources in c:\\users\\jan felix\\anaconda3\\lib\\site-packages (from ale_py) (5.10.0)\n",
      "Requirement already satisfied: importlib-metadata>=4.10.0 in c:\\users\\jan felix\\anaconda3\\lib\\site-packages (from ale_py) (4.11.3)\n",
      "Requirement already satisfied: zipp>=0.5 in c:\\users\\jan felix\\anaconda3\\lib\\site-packages (from importlib-metadata>=4.10.0->ale_py) (3.8.0)\n",
      "Note: you may need to restart the kernel to use updated packages.\n",
      "Requirement already satisfied: autorom[accept-rom-license] in c:\\users\\jan felix\\anaconda3\\lib\\site-packages (0.4.2)Note: you may need to restart the kernel to use updated packages.\n",
      "\n",
      "Requirement already satisfied: tqdm in c:\\users\\jan felix\\anaconda3\\lib\\site-packages (from autorom[accept-rom-license]) (4.64.1)\n",
      "Requirement already satisfied: click in c:\\users\\jan felix\\anaconda3\\lib\\site-packages (from autorom[accept-rom-license]) (8.0.4)\n",
      "Requirement already satisfied: requests in c:\\users\\jan felix\\anaconda3\\lib\\site-packages (from autorom[accept-rom-license]) (2.28.1)\n",
      "Requirement already satisfied: AutoROM.accept-rom-license in c:\\users\\jan felix\\anaconda3\\lib\\site-packages (from autorom[accept-rom-license]) (0.4.2)\n",
      "Requirement already satisfied: colorama in c:\\users\\jan felix\\anaconda3\\lib\\site-packages (from click->autorom[accept-rom-license]) (0.4.5)\n",
      "Requirement already satisfied: charset-normalizer<3,>=2 in c:\\users\\jan felix\\anaconda3\\lib\\site-packages (from requests->autorom[accept-rom-license]) (2.0.4)\n",
      "Requirement already satisfied: certifi>=2017.4.17 in c:\\users\\jan felix\\anaconda3\\lib\\site-packages (from requests->autorom[accept-rom-license]) (2022.9.14)\n",
      "Requirement already satisfied: idna<4,>=2.5 in c:\\users\\jan felix\\anaconda3\\lib\\site-packages (from requests->autorom[accept-rom-license]) (3.3)\n",
      "Requirement already satisfied: urllib3<1.27,>=1.21.1 in c:\\users\\jan felix\\anaconda3\\lib\\site-packages (from requests->autorom[accept-rom-license]) (1.26.11)\n"
     ]
    }
   ],
   "source": [
    "%pip install gym[atari]\n",
    "%pip install ale_py\n",
    "%pip install autorom[accept-rom-license]"
   ]
  },
  {
   "cell_type": "code",
   "execution_count": 3,
   "metadata": {},
   "outputs": [],
   "source": [
    "import gym"
   ]
  },
  {
   "cell_type": "markdown",
   "metadata": {},
   "source": [
    "### 2. Creating our environment ###\n",
    "By using the function gym.make() we create our environment. We pass the following parameters to the function: \n",
    "| Parameter | Value | Explanation |\n",
    "| :--- | :----: | :--- |\n",
    "| name | \"ALE/Freeway-v5\" | This is the name of our game. We are using the newest version v5. ALE (Arcade Learning Environment) is a framework used to develop AI agents for Atari games. |\n",
    "| difficulty | 1 | The game provides two different difficulties. Using difficulty = 1, the chicken is moved back to the start after each collision. For difficulty = 0, it is only thrown back. |\n",
    "| mode | 3 | The game provides eight different modes. As the value increases, so does the number and the speed of the cars. |\n",
    "| obs_type | \"rgb\" | This argument determines what observations are returned by the environment. By using \"rgb\" it returns a rgb image as an observation |\n",
    "| frameskip |  | This argument influences frame skipping (for more information read the paragraph Stochasticity) |\n",
    "| repeat_action_probability |  | This argument sets the probability for sticky actions (for more information read the paragraph Stochasticity) |\n",
    "| render_mode | \"human\" | This will display the game while its running. During the training of the agent, this parameter is deactivated. |"
   ]
  },
  {
   "cell_type": "code",
   "execution_count": 4,
   "metadata": {},
   "outputs": [],
   "source": [
    "env = gym.make(\"ALE/Freeway-v5\", difficulty = 1, mode = 3, obs_type = \"rgb\", frameskip = 1, render_mode = \"human\")"
   ]
  },
  {
   "cell_type": "markdown",
   "metadata": {},
   "source": [
    "#### Observation space ####"
   ]
  },
  {
   "cell_type": "code",
   "execution_count": 3,
   "metadata": {},
   "outputs": [
    {
     "name": "stdout",
     "output_type": "stream",
     "text": [
      "Our environment returns the following observation: Box(0, 255, (210, 160, 3), uint8)\n",
      "Since (210, 160, 3) is the shape of our observation space, we recieve a 210px * 160px rgb image.\n",
      "The image gets stored as a three-dimensional array. The dimensions are 210, 160 and 3.\n",
      "If you want to get an example of an image try printing observation_space.sample().\n",
      "By using the uint data type (unsinged int using 8 bits) the lowest possible entry is 0 while 255 is the highest possible entry\n"
     ]
    }
   ],
   "source": [
    "observation_space = env.observation_space\n",
    "print(\"Our environment returns the following observation: {}\".format(observation_space))\n",
    "print(\"Since {} is the shape of our observation space, we recieve a 210px * 160px rgb image.\".format(observation_space.shape))\n",
    "print(\"The image gets stored as a three-dimensional array. The dimensions are 210, 160 and 3.\")\n",
    "print(\"If you want to get an example of an image try printing observation_space.sample().\")\n",
    "#print(observation_space.sample())\n",
    "print(\"By using the uint data type (unsinged int using 8 bits) the lowest possible entry is 0 while 255 is the highest possible entry\")"
   ]
  },
  {
   "cell_type": "markdown",
   "metadata": {},
   "source": [
    "#### Action space ####"
   ]
  },
  {
   "cell_type": "code",
   "execution_count": 4,
   "metadata": {},
   "outputs": [
    {
     "name": "stdout",
     "output_type": "stream",
     "text": [
      "Number of different possible actions we can choose from: Discrete(3)\n",
      "Possible actions with corresponding values:\n",
      "['NOOP', 'UP', 'DOWN']\n",
      "[0, 1, 2]\n"
     ]
    }
   ],
   "source": [
    "action_space = env.action_space\n",
    "print(\"Number of different possible actions we can choose from: {}\".format(action_space))\n",
    "print(\"Possible actions with corresponding values:\")\n",
    "print(env.unwrapped.get_action_meanings())\n",
    "print(\"[0, 1, 2]\")"
   ]
  },
  {
   "cell_type": "markdown",
   "metadata": {},
   "source": [
    "#### Rewards ####\n",
    "Without any changes on the environment, there is only one reward. If the chickens crosses the road it recieves a reward with the value one. Except this case, there are no other rewards, neither for colliding with a car, nor for going backwards. "
   ]
  },
  {
   "cell_type": "markdown",
   "metadata": {},
   "source": [
    "#### Stochasticity ####\n",
    "Since Atari games are deterministic, there is a possibility that the agent just memorizes an optimal sequence of actions instead of using the observations and the reward from the environment. Due to this fact ALE uses so called sticky actions. This ensures that with a low probability the previous action is repeated. Therefore, the action chosen by the agent is not executed. By specifing the repeat_action_probality parameter during the creation of the environment, we can influence the probality of these sticky actions.  \n",
    "Additionally, Gym implements frame skipping which means that in each step the action is repeated for a random number of frames. By setting specifing the frameskip parameter during the creation of the environment, we can influece this number of frames. Specifically, the value indicates how often an action is repeated per step. By setting this value to one, we prevent frame skipping."
   ]
  },
  {
   "cell_type": "markdown",
   "metadata": {},
   "source": [
    "### 3. First Version: Random choices ###\n",
    "In this first version each step is choosen randomly."
   ]
  },
  {
   "cell_type": "code",
   "execution_count": 6,
   "metadata": {},
   "outputs": [
    {
     "ename": "TypeError",
     "evalue": "close() got an unexpected keyword argument 'close'",
     "output_type": "error",
     "traceback": [
      "\u001b[1;31m---------------------------------------------------------------------------\u001b[0m",
      "\u001b[1;31mTypeError\u001b[0m                                 Traceback (most recent call last)",
      "\u001b[1;32m~\\AppData\\Local\\Temp\\ipykernel_15604\\1196063560.py\u001b[0m in \u001b[0;36m<module>\u001b[1;34m\u001b[0m\n\u001b[0;32m     13\u001b[0m     \u001b[1;31m#Render the environment\u001b[0m\u001b[1;33m\u001b[0m\u001b[1;33m\u001b[0m\u001b[0m\n\u001b[0;32m     14\u001b[0m     \u001b[0menv\u001b[0m\u001b[1;33m.\u001b[0m\u001b[0mrender\u001b[0m\u001b[1;33m(\u001b[0m\u001b[1;33m)\u001b[0m\u001b[1;33m\u001b[0m\u001b[1;33m\u001b[0m\u001b[0m\n\u001b[1;32m---> 15\u001b[1;33m \u001b[0menv\u001b[0m\u001b[1;33m.\u001b[0m\u001b[0mclose\u001b[0m\u001b[1;33m(\u001b[0m\u001b[0mclose\u001b[0m \u001b[1;33m=\u001b[0m \u001b[1;32mTrue\u001b[0m\u001b[1;33m)\u001b[0m\u001b[1;33m\u001b[0m\u001b[1;33m\u001b[0m\u001b[0m\n\u001b[0m",
      "\u001b[1;31mTypeError\u001b[0m: close() got an unexpected keyword argument 'close'"
     ]
    },
    {
     "ename": "",
     "evalue": "",
     "output_type": "error",
     "traceback": [
      "\u001b[1;31mDer Kernel ist beim Ausführen von Code in der aktuellen Zelle oder einer vorherigen Zelle abgestürzt. Bitte überprüfen Sie den Code in der/den Zelle(n), um eine mögliche Fehlerursache zu identifizieren. Klicken Sie <a href='https://aka.ms/vscodeJupyterKernelCrash'>hier</a>, um weitere Informationen zu erhalten. Weitere Details finden Sie in Jupyter <a href='command:jupyter.viewOutput'>log</a>."
     ]
    }
   ],
   "source": [
    "import random\n",
    "\n",
    "env.reset()\n",
    "terminated = False\n",
    "\n",
    "while(terminated == False):\n",
    "    #Choosing a random action\n",
    "    random_action = random.choice([0, 1, 2])\n",
    "\n",
    "    #Recieving information\n",
    "    observation, reward, terminated, truncated, info = env.step(random_action)\n",
    "    \n",
    "    #Render the environment\n",
    "    env.render()\n",
    "env.close()"
   ]
  },
  {
   "cell_type": "markdown",
   "metadata": {},
   "source": [
    "# OFFEN: Kernel stirbt nach jeder Ausführung #"
   ]
  }
 ],
 "metadata": {
  "kernelspec": {
   "display_name": "Python 3.9.13 ('base')",
   "language": "python",
   "name": "python3"
  },
  "language_info": {
   "codemirror_mode": {
    "name": "ipython",
    "version": 3
   },
   "file_extension": ".py",
   "mimetype": "text/x-python",
   "name": "python",
   "nbconvert_exporter": "python",
   "pygments_lexer": "ipython3",
   "version": "3.9.13"
  },
  "orig_nbformat": 4,
  "vscode": {
   "interpreter": {
    "hash": "1ec777f0989d0b74fb0c7cbb3d7f813f4368d17c946db3119b132618d84725af"
   }
  }
 },
 "nbformat": 4,
 "nbformat_minor": 2
}
