{
 "cells": [
  {
   "cell_type": "code",
   "execution_count": null,
   "metadata": {},
   "outputs": [],
   "source": [
    "class ClipReward(gym.RewardWrapper):\n",
    "    def __init__(self, env, min_reward, max_reward):\n",
    "        super().__init__(env)\n",
    "        self.pre_pos = 6\n",
    "        self.min_reward = min_reward\n",
    "        self.max_reward = max_reward\n",
    "        self.reward_range = (min_reward, max_reward)\n",
    "\n",
    "    def reward(self, reward):\n",
    "        ram = env.unwrapped.ale.getRAM()\n",
    "        current_pos = ram[14]\n",
    "        if(current_pos >= 176): #Chicken ist im Ziel\n",
    "            reward = 100\n",
    "            print(\"Ziel Erreicht!\")\n",
    "        elif(current_pos > self.pre_pos): #Chicken geht nach vorne\n",
    "            reward = 10\n",
    "        elif(self.pre_pos < 176): #Chicken pos. unterm Ziel\n",
    "            if(current_pos == 6 and self.pre_pos > 6): #Chicken wurde Zurückgesetzt / Carcrash\n",
    "                reward = -100\n",
    "            elif(current_pos < self.pre_pos): #Chicken geht zurück\n",
    "                reward = -10\n",
    "        else:\n",
    "            reward = 0 #Chicken bleibt stehen\n",
    "        #print(ram[14])\n",
    "        self.pre_pos = current_pos\n",
    "        return np.clip(reward, self.min_reward, self.max_reward)"
   ]
  }
 ],
 "metadata": {
  "kernelspec": {
   "display_name": "Python 3.10.8 64-bit (microsoft store)",
   "language": "python",
   "name": "python3"
  },
  "language_info": {
   "name": "python",
   "version": "3.10.8"
  },
  "orig_nbformat": 4,
  "vscode": {
   "interpreter": {
    "hash": "71afd63983943191fa4329673f0523765d6a1d8b308f3ad62e609deec8f747a5"
   }
  }
 },
 "nbformat": 4,
 "nbformat_minor": 2
}
